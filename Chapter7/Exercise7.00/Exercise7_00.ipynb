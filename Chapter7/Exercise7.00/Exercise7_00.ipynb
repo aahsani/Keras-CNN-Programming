{
 "cells": [
  {
   "cell_type": "markdown",
   "metadata": {},
   "source": [
    "# Exercise 7.00"
   ]
  },
  {
   "cell_type": "code",
   "execution_count": 1,
   "metadata": {},
   "outputs": [],
   "source": [
    "from keras.preprocessing.image import ImageDataGenerator, img_to_array, load_img\n",
    "import os"
   ]
  },
  {
   "cell_type": "code",
   "execution_count": 2,
   "metadata": {},
   "outputs": [],
   "source": [
    "datagen = ImageDataGenerator(\n",
    "    shear_range=0.2,\n",
    "    zoom_range=0.3,\n",
    "    horizontal_flip=True,\n",
    "    rotation_range=40,\n",
    "    width_shift_range=0.2,\n",
    "    height_shift_range=0.2,\n",
    "    brightness_range=[0.1, 0.9]\n",
    ")"
   ]
  },
  {
   "cell_type": "code",
   "execution_count": 3,
   "metadata": {},
   "outputs": [],
   "source": [
    "image_types = ['Daisy', 'Rose', 'Tulip']\n",
    "\n",
    "for imageFolder in image_types:\n",
    "    for file in os.listdir('Images/' + imageFolder + '/'):\n",
    "        img = load_img('Images/' + imageFolder + '/' + file)\n",
    "        x = img_to_array(img)\n",
    "        \n",
    "        x = x.reshape((1,) + x.shape) # 1, WIDTH, HEIGHT, 3 - > 3 is because the image is RGB. if was grey 3 would be 1.\n",
    "        i = 0\n",
    "\n",
    "        for generatedImage in datagen.flow(x, batch_size = 1, save_to_dir='newImages/'+imageFolder, save_prefix=imageFolder, save_format='jpg'):\n",
    "            i += 1 \n",
    "            if i == 4: \n",
    "                break"
   ]
  },
  {
   "cell_type": "code",
   "execution_count": null,
   "metadata": {},
   "outputs": [],
   "source": []
  }
 ],
 "metadata": {
  "kernelspec": {
   "display_name": "Python 3",
   "language": "python",
   "name": "python3"
  },
  "language_info": {
   "codemirror_mode": {
    "name": "ipython",
    "version": 3
   },
   "file_extension": ".py",
   "mimetype": "text/x-python",
   "name": "python",
   "nbconvert_exporter": "python",
   "pygments_lexer": "ipython3",
   "version": "3.7.6"
  }
 },
 "nbformat": 4,
 "nbformat_minor": 4
}

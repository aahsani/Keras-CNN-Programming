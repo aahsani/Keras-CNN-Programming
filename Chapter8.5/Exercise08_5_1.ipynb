{
 "cells": [
  {
   "cell_type": "code",
   "execution_count": 1,
   "metadata": {},
   "outputs": [],
   "source": [
    "import keras\n",
    "from keras.datasets import mnist\n",
    "from keras.models import Sequential\n",
    "from keras.layers import Conv2D, Conv2DTranspose\n",
    "import matplotlib.pyplot as plt\n",
    "import numpy as np"
   ]
  },
  {
   "cell_type": "code",
   "execution_count": 2,
   "metadata": {},
   "outputs": [],
   "source": [
    "# Load MNIST dataset\n",
    "(input_train, target_train), (input_test, target_test) = mnist.load_data()"
   ]
  },
  {
   "cell_type": "code",
   "execution_count": 3,
   "metadata": {},
   "outputs": [
    {
     "data": {
      "text/plain": [
       "(60000, 28, 28)"
      ]
     },
     "execution_count": 3,
     "metadata": {},
     "output_type": "execute_result"
    }
   ],
   "source": [
    "input_train.shape"
   ]
  },
  {
   "cell_type": "code",
   "execution_count": 4,
   "metadata": {},
   "outputs": [
    {
     "data": {
      "text/plain": [
       "(10000, 28, 28)"
      ]
     },
     "execution_count": 4,
     "metadata": {},
     "output_type": "execute_result"
    }
   ],
   "source": [
    "input_test.shape"
   ]
  },
  {
   "cell_type": "code",
   "execution_count": 5,
   "metadata": {},
   "outputs": [],
   "source": [
    "# Reshape data\n",
    "input_train = input_train.reshape(input_train.shape[0], 28, 28, 1)\n",
    "input_test = input_test.reshape(input_test.shape[0], 28, 28, 1)\n",
    "input_shape = (28, 28, 1)"
   ]
  },
  {
   "cell_type": "code",
   "execution_count": 6,
   "metadata": {},
   "outputs": [],
   "source": [
    "# Parse numbers as floats\n",
    "input_train = input_train.astype('float32')\n",
    "input_test = input_test.astype('float32')"
   ]
  },
  {
   "cell_type": "code",
   "execution_count": 7,
   "metadata": {},
   "outputs": [],
   "source": [
    "# Normalize data\n",
    "input_train = input_train / 255\n",
    "input_test = input_test / 255"
   ]
  },
  {
   "cell_type": "code",
   "execution_count": 8,
   "metadata": {},
   "outputs": [],
   "source": [
    "# Create the model\n",
    "model = Sequential()\n",
    "# Encoder Part\n",
    "model.add(Conv2D(filters=32, kernel_size=(3, 3), activation='relu', input_shape=input_shape))\n",
    "model.add(Conv2D(filters=16, kernel_size=(3, 3), activation='relu'))\n",
    "model.add(Conv2D(filters=8 , kernel_size=(3, 3), activation='relu'))\n",
    "# Decoder Part\n",
    "model.add(Conv2DTranspose(filters=8 , kernel_size=(3,3), activation='relu'))\n",
    "model.add(Conv2DTranspose(filters=16, kernel_size=(3,3), activation='relu'))\n",
    "model.add(Conv2DTranspose(filters=32, kernel_size=(3,3), activation='relu'))\n",
    "# \n",
    "model.add(Conv2D(1, kernel_size=(3, 3), activation='sigmoid', padding='same'))"
   ]
  },
  {
   "cell_type": "code",
   "execution_count": 9,
   "metadata": {},
   "outputs": [],
   "source": [
    "# Compile and fit data\n",
    "model.compile(optimizer='adam', loss='binary_crossentropy')"
   ]
  },
  {
   "cell_type": "code",
   "execution_count": 10,
   "metadata": {},
   "outputs": [
    {
     "name": "stdout",
     "output_type": "stream",
     "text": [
      "Model: \"sequential\"\n",
      "_________________________________________________________________\n",
      "Layer (type)                 Output Shape              Param #   \n",
      "=================================================================\n",
      "conv2d (Conv2D)              (None, 26, 26, 32)        320       \n",
      "_________________________________________________________________\n",
      "conv2d_1 (Conv2D)            (None, 24, 24, 16)        4624      \n",
      "_________________________________________________________________\n",
      "conv2d_2 (Conv2D)            (None, 22, 22, 8)         1160      \n",
      "_________________________________________________________________\n",
      "conv2d_transpose (Conv2DTran (None, 24, 24, 8)         584       \n",
      "_________________________________________________________________\n",
      "conv2d_transpose_1 (Conv2DTr (None, 26, 26, 16)        1168      \n",
      "_________________________________________________________________\n",
      "conv2d_transpose_2 (Conv2DTr (None, 28, 28, 32)        4640      \n",
      "_________________________________________________________________\n",
      "conv2d_3 (Conv2D)            (None, 28, 28, 1)         289       \n",
      "=================================================================\n",
      "Total params: 12,785\n",
      "Trainable params: 12,785\n",
      "Non-trainable params: 0\n",
      "_________________________________________________________________\n"
     ]
    }
   ],
   "source": [
    "model.summary()"
   ]
  },
  {
   "cell_type": "code",
   "execution_count": 11,
   "metadata": {},
   "outputs": [
    {
     "name": "stdout",
     "output_type": "stream",
     "text": [
      "48/48 [==============================] - 57s 1s/step - loss: 0.3902 - val_loss: 0.1050\n"
     ]
    },
    {
     "data": {
      "text/plain": [
       "<tensorflow.python.keras.callbacks.History at 0x2d61a1f0e08>"
      ]
     },
     "execution_count": 11,
     "metadata": {},
     "output_type": "execute_result"
    }
   ],
   "source": [
    "model.fit(x = input_train, y = input_train, epochs = 1, batch_size = 1000, validation_split = 0.2)"
   ]
  },
  {
   "cell_type": "code",
   "execution_count": 12,
   "metadata": {},
   "outputs": [
    {
     "data": {
      "text/plain": [
       "(8, 28, 28, 1)"
      ]
     },
     "execution_count": 12,
     "metadata": {},
     "output_type": "execute_result"
    }
   ],
   "source": [
    "# Generate reconstructions\n",
    "# we want to predict 8 images!\n",
    "number_of_samples = 8\n",
    "samples = input_test[:number_of_samples]\n",
    "targets = target_test[:number_of_samples]\n",
    "reconstructions = model.predict(samples)\n",
    "reconstructions.shape"
   ]
  },
  {
   "cell_type": "code",
   "execution_count": 13,
   "metadata": {},
   "outputs": [],
   "source": [
    "#sample = samples[0][:, :, :]\n",
    "#sample.shape\n",
    "#targets"
   ]
  },
  {
   "cell_type": "code",
   "execution_count": 14,
   "metadata": {},
   "outputs": [
    {
     "data": {
      "image/png": "[encoded data removed]",
      "text/plain": [
       "<Figure size 432x288 with 2 Axes>"
      ]
     },
     "metadata": {
      "needs_background": "light"
     },
     "output_type": "display_data"
    },
    {
     "data": {
      "image/png": "[encoded data removed]",
      "text/plain": [
       "<Figure size 432x288 with 2 Axes>"
      ]
     },
     "metadata": {
      "needs_background": "light"
     },
     "output_type": "display_data"
    },
    {
     "data": {
      "image/png": "[encoded data removed]",
      "text/plain": [
       "<Figure size 432x288 with 2 Axes>"
      ]
     },
     "metadata": {
      "needs_background": "light"
     },
     "output_type": "display_data"
    },
    {
     "data": {
      "image/png": "[encoded data removed]",
      "text/plain": [
       "<Figure size 432x288 with 2 Axes>"
      ]
     },
     "metadata": {
      "needs_background": "light"
     },
     "output_type": "display_data"
    },
    {
     "data": {
      "image/png": "[encoded data removed]",
      "text/plain": [
       "<Figure size 432x288 with 2 Axes>"
      ]
     },
     "metadata": {
      "needs_background": "light"
     },
     "output_type": "display_data"
    },
    {
     "data": {
      "image/png": "[encoded data removed]",
      "text/plain": [
       "<Figure size 432x288 with 2 Axes>"
      ]
     },
     "metadata": {
      "needs_background": "light"
     },
     "output_type": "display_data"
    },
    {
     "data": {
      "image/png": "[encoded data removed]",
      "text/plain": [
       "<Figure size 432x288 with 2 Axes>"
      ]
     },
     "metadata": {
      "needs_background": "light"
     },
     "output_type": "display_data"
    },
    {
     "data": {
      "image/png": "[encoded data removed]",
      "text/plain": [
       "<Figure size 432x288 with 2 Axes>"
      ]
     },
     "metadata": {
      "needs_background": "light"
     },
     "output_type": "display_data"
    }
   ],
   "source": [
    "# Plot reconstructions\n",
    "for i in np.arange(0, number_of_samples):\n",
    "    \n",
    "    # Get the sample and the reconstruction\n",
    "    sample = samples[i][:, :, 0]\n",
    "    reconstruction = reconstructions[i][:, :, 0]\n",
    "    \n",
    "    # Original Images\n",
    "    input_class = targets[i]\n",
    "    \n",
    "    # Matplotlib preparations\n",
    "    fig, axes = plt.subplots(1, 2)\n",
    "    # Plot sample and reconstruciton\n",
    "    plt.gray()\n",
    "    axes[0].imshow(sample)\n",
    "    axes[0].set_title('Original image')\n",
    "    axes[1].imshow(reconstruction)\n",
    "    axes[1].set_title('Reconstruction Image')\n",
    "    fig.suptitle(f'target = {input_class}')\n",
    "    plt.show()"
   ]
  },
  {
   "cell_type": "code",
   "execution_count": 15,
   "metadata": {},
   "outputs": [
    {
     "data": {
      "text/plain": [
       "array([[0.        , 0.        , 0.        , 0.        , 0.        ,\n",
       "        0.        , 0.        , 0.        , 0.        , 0.        ,\n",
       "        0.        , 0.        , 0.        , 0.        , 0.        ,\n",
       "        0.        , 0.        , 0.        , 0.        , 0.        ,\n",
       "        0.        , 0.        , 0.        , 0.        , 0.        ,\n",
       "        0.        , 0.        , 0.        ],\n",
       "       [0.        , 0.        , 0.        , 0.        , 0.        ,\n",
       "        0.        , 0.        , 0.        , 0.        , 0.        ,\n",
       "        0.        , 0.        , 0.        , 0.        , 0.        ,\n",
       "        0.        , 0.        , 0.        , 0.        , 0.        ,\n",
       "        0.        , 0.        , 0.        , 0.        , 0.        ,\n",
       "        0.        , 0.        , 0.        ],\n",
       "       [0.        , 0.        , 0.        , 0.        , 0.        ,\n",
       "        0.        , 0.        , 0.        , 0.        , 0.        ,\n",
       "        0.        , 0.        , 0.        , 0.        , 0.        ,\n",
       "        0.        , 0.        , 0.        , 0.        , 0.        ,\n",
       "        0.        , 0.        , 0.        , 0.        , 0.        ,\n",
       "        0.        , 0.        , 0.        ],\n",
       "       [0.        , 0.        , 0.        , 0.        , 0.        ,\n",
       "        0.        , 0.        , 0.        , 0.        , 0.        ,\n",
       "        0.        , 0.        , 0.        , 0.        , 0.        ,\n",
       "        0.        , 0.        , 0.        , 0.        , 0.        ,\n",
       "        0.        , 0.        , 0.        , 0.        , 0.        ,\n",
       "        0.        , 0.        , 0.        ],\n",
       "       [0.        , 0.        , 0.        , 0.        , 0.        ,\n",
       "        0.        , 0.        , 0.        , 0.        , 0.        ,\n",
       "        0.        , 0.        , 0.        , 0.        , 0.        ,\n",
       "        0.        , 0.        , 0.        , 0.        , 0.        ,\n",
       "        0.        , 0.        , 0.        , 0.        , 0.        ,\n",
       "        0.        , 0.        , 0.        ],\n",
       "       [0.        , 0.        , 0.        , 0.        , 0.        ,\n",
       "        0.        , 0.        , 0.        , 0.        , 0.        ,\n",
       "        0.        , 0.        , 0.        , 0.        , 0.        ,\n",
       "        0.        , 0.        , 0.        , 0.        , 0.        ,\n",
       "        0.        , 0.        , 0.        , 0.        , 0.        ,\n",
       "        0.        , 0.        , 0.        ],\n",
       "       [0.        , 0.        , 0.        , 0.        , 0.        ,\n",
       "        0.        , 0.        , 0.        , 0.        , 0.        ,\n",
       "        0.        , 0.05490196, 0.58431375, 0.75686276, 0.01960784,\n",
       "        0.        , 0.        , 0.        , 0.        , 0.        ,\n",
       "        0.        , 0.        , 0.        , 0.        , 0.        ,\n",
       "        0.        , 0.        , 0.        ],\n",
       "       [0.        , 0.        , 0.        , 0.        , 0.        ,\n",
       "        0.        , 0.        , 0.        , 0.        , 0.        ,\n",
       "        0.35686275, 0.8784314 , 0.99215686, 0.99215686, 0.07450981,\n",
       "        0.        , 0.        , 0.        , 0.        , 0.        ,\n",
       "        0.        , 0.        , 0.        , 0.        , 0.        ,\n",
       "        0.        , 0.        , 0.        ],\n",
       "       [0.        , 0.        , 0.        , 0.        , 0.        ,\n",
       "        0.        , 0.        , 0.        , 0.        , 0.10980392,\n",
       "        0.92156863, 0.99607843, 0.99215686, 0.99215686, 0.6509804 ,\n",
       "        0.07058824, 0.        , 0.        , 0.        , 0.        ,\n",
       "        0.        , 0.        , 0.        , 0.        , 0.        ,\n",
       "        0.        , 0.        , 0.        ],\n",
       "       [0.        , 0.        , 0.        , 0.        , 0.        ,\n",
       "        0.        , 0.        , 0.        , 0.        , 0.5647059 ,\n",
       "        0.99215686, 0.99607843, 0.99215686, 0.99215686, 0.99215686,\n",
       "        0.93333334, 0.4509804 , 0.02352941, 0.        , 0.        ,\n",
       "        0.        , 0.        , 0.        , 0.        , 0.        ,\n",
       "        0.        , 0.        , 0.        ],\n",
       "       [0.        , 0.        , 0.        , 0.        , 0.        ,\n",
       "        0.        , 0.        , 0.        , 0.12156863, 0.94509804,\n",
       "        0.99215686, 0.8156863 , 0.7254902 , 0.99215686, 0.99215686,\n",
       "        0.99215686, 0.90588236, 0.09411765, 0.        , 0.        ,\n",
       "        0.        , 0.        , 0.        , 0.        , 0.        ,\n",
       "        0.        , 0.        , 0.        ],\n",
       "       [0.        , 0.        , 0.        , 0.        , 0.        ,\n",
       "        0.        , 0.        , 0.        , 0.30980393, 0.99607843,\n",
       "        0.75686276, 0.        , 0.03137255, 0.38431373, 0.85882354,\n",
       "        0.99607843, 1.        , 0.7882353 , 0.07058824, 0.        ,\n",
       "        0.        , 0.        , 0.        , 0.        , 0.        ,\n",
       "        0.        , 0.        , 0.        ],\n",
       "       [0.        , 0.        , 0.        , 0.        , 0.        ,\n",
       "        0.        , 0.        , 0.        , 0.3372549 , 0.99215686,\n",
       "        0.3137255 , 0.        , 0.        , 0.        , 0.7137255 ,\n",
       "        0.99215686, 0.99607843, 0.7490196 , 0.04705882, 0.        ,\n",
       "        0.        , 0.        , 0.        , 0.        , 0.        ,\n",
       "        0.        , 0.        , 0.        ],\n",
       "       [0.        , 0.        , 0.        , 0.        , 0.        ,\n",
       "        0.        , 0.        , 0.        , 0.6862745 , 0.99215686,\n",
       "        0.60784316, 0.        , 0.        , 0.        , 0.91764706,\n",
       "        0.99215686, 0.99607843, 0.5294118 , 0.        , 0.        ,\n",
       "        0.        , 0.        , 0.        , 0.        , 0.        ,\n",
       "        0.        , 0.        , 0.        ],\n",
       "       [0.        , 0.        , 0.        , 0.        , 0.        ,\n",
       "        0.        , 0.        , 0.        , 0.3372549 , 0.99215686,\n",
       "        0.8156863 , 0.15686275, 0.33333334, 0.6509804 , 0.9843137 ,\n",
       "        0.92941177, 0.99607843, 0.9254902 , 0.16470589, 0.        ,\n",
       "        0.        , 0.        , 0.        , 0.        , 0.        ,\n",
       "        0.        , 0.        , 0.        ],\n",
       "       [0.        , 0.        , 0.        , 0.        , 0.        ,\n",
       "        0.        , 0.        , 0.        , 0.07058824, 0.93333334,\n",
       "        0.99215686, 0.99607843, 0.99215686, 0.99215686, 0.7254902 ,\n",
       "        0.14117648, 0.84705883, 0.99215686, 0.59607846, 0.        ,\n",
       "        0.        , 0.        , 0.        , 0.        , 0.        ,\n",
       "        0.        , 0.        , 0.        ],\n",
       "       [0.        , 0.        , 0.        , 0.        , 0.        ,\n",
       "        0.        , 0.        , 0.        , 0.        , 0.26666668,\n",
       "        0.9411765 , 1.        , 0.99607843, 0.5686275 , 0.03137255,\n",
       "        0.        , 0.5254902 , 0.99607843, 0.8745098 , 0.13725491,\n",
       "        0.        , 0.        , 0.        , 0.        , 0.        ,\n",
       "        0.        , 0.        , 0.        ],\n",
       "       [0.        , 0.        , 0.        , 0.        , 0.        ,\n",
       "        0.        , 0.        , 0.        , 0.        , 0.        ,\n",
       "        0.26666668, 0.61960787, 0.5568628 , 0.04705882, 0.        ,\n",
       "        0.        , 0.03529412, 0.6862745 , 0.99215686, 0.6313726 ,\n",
       "        0.        , 0.        , 0.        , 0.        , 0.        ,\n",
       "        0.        , 0.        , 0.        ],\n",
       "       [0.        , 0.        , 0.        , 0.        , 0.        ,\n",
       "        0.        , 0.        , 0.        , 0.        , 0.        ,\n",
       "        0.        , 0.        , 0.        , 0.        , 0.        ,\n",
       "        0.        , 0.        , 0.34509805, 0.99215686, 0.8862745 ,\n",
       "        0.07058824, 0.        , 0.        , 0.        , 0.        ,\n",
       "        0.        , 0.        , 0.        ],\n",
       "       [0.        , 0.        , 0.        , 0.        , 0.        ,\n",
       "        0.        , 0.        , 0.        , 0.        , 0.        ,\n",
       "        0.        , 0.        , 0.        , 0.        , 0.        ,\n",
       "        0.        , 0.        , 0.00784314, 0.6509804 , 0.99215686,\n",
       "        0.49411765, 0.        , 0.        , 0.        , 0.        ,\n",
       "        0.        , 0.        , 0.        ],\n",
       "       [0.        , 0.        , 0.        , 0.        , 0.        ,\n",
       "        0.        , 0.        , 0.        , 0.        , 0.        ,\n",
       "        0.        , 0.        , 0.        , 0.        , 0.        ,\n",
       "        0.        , 0.        , 0.        , 0.1882353 , 0.9607843 ,\n",
       "        0.99215686, 0.14901961, 0.        , 0.        , 0.        ,\n",
       "        0.        , 0.        , 0.        ],\n",
       "       [0.        , 0.        , 0.        , 0.        , 0.        ,\n",
       "        0.        , 0.        , 0.        , 0.        , 0.        ,\n",
       "        0.        , 0.        , 0.        , 0.        , 0.        ,\n",
       "        0.        , 0.        , 0.        , 0.        , 0.4509804 ,\n",
       "        0.99607843, 0.6745098 , 0.03529412, 0.        , 0.        ,\n",
       "        0.        , 0.        , 0.        ],\n",
       "       [0.        , 0.        , 0.        , 0.        , 0.        ,\n",
       "        0.        , 0.        , 0.        , 0.        , 0.        ,\n",
       "        0.        , 0.        , 0.        , 0.        , 0.        ,\n",
       "        0.        , 0.        , 0.        , 0.        , 0.08235294,\n",
       "        0.85490197, 0.99607843, 0.18039216, 0.        , 0.        ,\n",
       "        0.        , 0.        , 0.        ],\n",
       "       [0.        , 0.        , 0.        , 0.        , 0.        ,\n",
       "        0.        , 0.        , 0.        , 0.        , 0.        ,\n",
       "        0.        , 0.        , 0.        , 0.        , 0.        ,\n",
       "        0.        , 0.        , 0.        , 0.        , 0.        ,\n",
       "        0.11764706, 0.99607843, 0.64705884, 0.        , 0.        ,\n",
       "        0.        , 0.        , 0.        ],\n",
       "       [0.        , 0.        , 0.        , 0.        , 0.        ,\n",
       "        0.        , 0.        , 0.        , 0.        , 0.        ,\n",
       "        0.        , 0.        , 0.        , 0.        , 0.        ,\n",
       "        0.        , 0.        , 0.        , 0.        , 0.        ,\n",
       "        0.        , 0.7294118 , 0.95686275, 0.16470589, 0.        ,\n",
       "        0.        , 0.        , 0.        ],\n",
       "       [0.        , 0.        , 0.        , 0.        , 0.        ,\n",
       "        0.        , 0.        , 0.        , 0.        , 0.        ,\n",
       "        0.        , 0.        , 0.        , 0.        , 0.        ,\n",
       "        0.        , 0.        , 0.        , 0.        , 0.        ,\n",
       "        0.        , 0.05490196, 0.8745098 , 0.30588236, 0.        ,\n",
       "        0.        , 0.        , 0.        ],\n",
       "       [0.        , 0.        , 0.        , 0.        , 0.        ,\n",
       "        0.        , 0.        , 0.        , 0.        , 0.        ,\n",
       "        0.        , 0.        , 0.        , 0.        , 0.        ,\n",
       "        0.        , 0.        , 0.        , 0.        , 0.        ,\n",
       "        0.        , 0.        , 0.        , 0.        , 0.        ,\n",
       "        0.        , 0.        , 0.        ],\n",
       "       [0.        , 0.        , 0.        , 0.        , 0.        ,\n",
       "        0.        , 0.        , 0.        , 0.        , 0.        ,\n",
       "        0.        , 0.        , 0.        , 0.        , 0.        ,\n",
       "        0.        , 0.        , 0.        , 0.        , 0.        ,\n",
       "        0.        , 0.        , 0.        , 0.        , 0.        ,\n",
       "        0.        , 0.        , 0.        ]], dtype=float32)"
      ]
     },
     "execution_count": 15,
     "metadata": {},
     "output_type": "execute_result"
    }
   ],
   "source": [
    "sample"
   ]
  },
  {
   "cell_type": "code",
   "execution_count": 16,
   "metadata": {},
   "outputs": [
    {
     "data": {
      "text/plain": [
       "array([[3.02354872e-01, 1.29016131e-01, 3.62437069e-02, 9.25835967e-03,\n",
       "        2.66581774e-03, 1.13040209e-03, 7.89433718e-04, 6.94304705e-04,\n",
       "        6.75261021e-04, 6.46352768e-04, 6.13182783e-04, 5.86748123e-04,\n",
       "        5.74290752e-04, 5.74558973e-04, 5.87135553e-04, 6.08414412e-04,\n",
       "        6.36458397e-04, 6.65634871e-04, 6.89327717e-04, 7.02679157e-04,\n",
       "        7.07000494e-04, 7.60674477e-04, 1.04933977e-03, 2.37962604e-03,\n",
       "        7.51650333e-03, 2.82082856e-02, 1.04774445e-01, 2.75409102e-01],\n",
       "       [1.34371877e-01, 1.27459466e-02, 6.73413277e-04, 3.75294767e-05,\n",
       "        3.13399642e-06, 5.64762843e-07, 2.44410472e-07, 1.78698087e-07,\n",
       "        1.63807371e-07, 1.43357809e-07, 1.21916372e-07, 1.06897090e-07,\n",
       "        1.00904167e-07, 1.00352551e-07, 1.03185585e-07, 1.10679167e-07,\n",
       "        1.24529450e-07, 1.45663421e-07, 1.67657092e-07, 1.83171821e-07,\n",
       "        1.89553631e-07, 2.39716996e-07, 5.59819284e-07, 3.95212373e-06,\n",
       "        4.82599935e-05, 8.19444656e-04, 1.30363405e-02, 1.25911623e-01],\n",
       "       [4.75927889e-02, 9.04232264e-04, 1.03807706e-05, 2.83079657e-07,\n",
       "        1.51917998e-08, 1.87709559e-09, 5.08260822e-10, 2.97448621e-10,\n",
       "        2.44894466e-10, 1.83987214e-10, 1.39701237e-10, 1.25700242e-10,\n",
       "        1.32310135e-10, 1.42978435e-10, 1.41005485e-10, 1.38842160e-10,\n",
       "        1.52581392e-10, 1.91060431e-10, 2.50413329e-10, 3.06781212e-10,\n",
       "        3.38586992e-10, 5.31631739e-10, 2.38504505e-09, 5.43165193e-08,\n",
       "        2.34932872e-06, 7.95213055e-05, 2.58067250e-03, 5.39835095e-02],\n",
       "       [1.74272060e-02, 1.12364192e-04, 4.82741711e-07, 1.87225861e-08,\n",
       "        1.52442992e-09, 2.00099812e-10, 3.26934452e-11, 1.45771659e-11,\n",
       "        1.13462790e-11, 9.39907874e-12, 1.10531697e-11, 2.11378050e-11,\n",
       "        4.37700293e-11, 5.36519995e-11, 3.31091231e-11, 1.60261075e-11,\n",
       "        9.31038233e-12, 8.62229906e-12, 1.09143371e-11, 1.46573777e-11,\n",
       "        1.79109089e-11, 3.49067615e-11, 2.96441621e-10, 1.31375799e-08,\n",
       "        1.03278569e-06, 2.36052074e-05, 6.69509172e-04, 2.16275752e-02],\n",
       "       [8.26188922e-03, 4.00360404e-05, 1.45042137e-07, 1.19187229e-08,\n",
       "        2.08130935e-09, 2.88147006e-10, 3.47278595e-11, 1.32804852e-11,\n",
       "        1.34526747e-11, 2.84087302e-11, 1.74796344e-10, 1.93937577e-09,\n",
       "        1.22549411e-08, 1.58138231e-08, 3.02476577e-09, 2.34061326e-10,\n",
       "        2.86798588e-11, 9.58937790e-12, 8.21376734e-12, 1.04810709e-11,\n",
       "        1.43001271e-11, 3.33559465e-11, 4.26319369e-10, 1.84728286e-08,\n",
       "        1.23043731e-06, 1.20875366e-05, 2.38597393e-04, 1.06506050e-02],\n",
       "       [5.77333570e-03, 1.90910105e-05, 4.24601012e-08, 2.73081402e-09,\n",
       "        4.16050694e-10, 3.72758907e-11, 3.72103086e-12, 1.62957777e-12,\n",
       "        5.88152357e-12, 1.27013969e-10, 1.34360016e-08, 1.53880228e-06,\n",
       "        2.90791559e-05, 2.76082083e-05, 8.76655974e-07, 4.17483337e-09,\n",
       "        3.84328298e-11, 2.23863397e-12, 7.20862280e-13, 6.46028912e-13,\n",
       "        8.70745750e-13, 2.22507147e-12, 3.77260792e-11, 1.95856464e-09,\n",
       "        1.80221633e-07, 2.43372324e-06, 6.83522812e-05, 5.74943423e-03],\n",
       "       [4.50515747e-03, 1.04827222e-05, 1.68612662e-08, 7.02332359e-10,\n",
       "        7.46313497e-11, 4.67644066e-12, 5.32392977e-13, 6.67760226e-13,\n",
       "        2.68804319e-11, 1.52378252e-08, 2.11609640e-05, 7.53477216e-03,\n",
       "        1.28226131e-01, 5.46375513e-02, 5.26130199e-04, 4.35313382e-07,\n",
       "        3.89544008e-10, 3.00925864e-12, 2.05159877e-13, 6.98307650e-14,\n",
       "        6.14493740e-14, 1.55397776e-13, 3.31872529e-12, 2.41991510e-10,\n",
       "        3.23001572e-08, 7.30439410e-07, 3.48381618e-05, 4.39620018e-03],\n",
       "       [4.18889523e-03, 8.59017655e-06, 1.07682236e-08, 3.11669385e-10,\n",
       "        2.65042537e-11, 1.93953555e-12, 4.19070919e-13, 3.68328848e-12,\n",
       "        3.47923357e-09, 2.22747440e-05, 4.83908057e-02, 8.65357995e-01,\n",
       "        9.69042778e-01, 8.78972173e-01, 1.01954132e-01, 2.03609467e-04,\n",
       "        1.26185441e-07, 1.79764231e-10, 1.49205409e-12, 8.31019959e-14,\n",
       "        2.38619024e-14, 3.91469355e-14, 8.04457683e-13, 7.86052612e-11,\n",
       "        1.38607872e-08, 4.27548002e-07, 2.65192521e-05, 4.00894880e-03],\n",
       "       [4.18889523e-03, 8.58378098e-06, 1.07213332e-08, 3.12350784e-10,\n",
       "        2.91633558e-11, 3.36361451e-12, 2.76707129e-12, 3.06120740e-10,\n",
       "        3.05461708e-06, 2.59441733e-02, 9.28027391e-01, 9.91715193e-01,\n",
       "        9.91282046e-01, 9.73036170e-01, 7.68943965e-01, 7.71733224e-02,\n",
       "        3.02165747e-04, 3.21816430e-07, 3.39354433e-10, 1.83485172e-12,\n",
       "        8.78257834e-14, 5.79968406e-14, 8.50068930e-13, 7.80182446e-11,\n",
       "        1.38521186e-08, 4.27777621e-07, 2.65192521e-05, 4.00894880e-03],\n",
       "       [4.18889523e-03, 8.58145631e-06, 1.06844853e-08, 3.17652904e-10,\n",
       "        3.52605480e-11, 7.92052621e-12, 3.25289240e-11, 3.19976117e-08,\n",
       "        9.60141420e-04, 7.47407377e-01, 9.88510966e-01, 9.90762830e-01,\n",
       "        9.83251154e-01, 9.69449222e-01, 9.37360883e-01, 7.78149188e-01,\n",
       "        1.42897367e-01, 5.57750463e-04, 1.92758037e-07, 1.08372991e-10,\n",
       "        6.56116004e-13, 1.17851611e-13, 1.01063775e-12, 7.85842780e-11,\n",
       "        1.38500580e-08, 4.27538225e-07, 2.65188464e-05, 4.00894880e-03],\n",
       "       [4.18889523e-03, 8.58880867e-06, 1.06966382e-08, 3.27565031e-10,\n",
       "        4.53709639e-11, 2.16163025e-11, 4.27655827e-10, 1.56910153e-06,\n",
       "        3.83512080e-02, 9.51435208e-01, 9.84396517e-01, 9.64945793e-01,\n",
       "        9.18776929e-01, 9.05522704e-01, 9.30252373e-01, 9.46483612e-01,\n",
       "        8.28947663e-01, 7.43080080e-02, 4.47749117e-05, 5.87609428e-09,\n",
       "        5.62541420e-12, 2.57417487e-13, 1.21121418e-12, 7.80015844e-11,\n",
       "        1.36811300e-08, 4.25518209e-07, 2.65092131e-05, 4.00894880e-03],\n",
       "       [4.18889523e-03, 8.59751981e-06, 1.07984368e-08, 3.48560847e-10,\n",
       "        6.21593471e-11, 6.13392739e-11, 3.85420273e-09, 2.50619432e-05,\n",
       "        2.07153440e-01, 9.58260894e-01, 9.47341859e-01, 7.64390945e-01,\n",
       "        5.36710620e-01, 6.35342836e-01, 8.67217898e-01, 9.57783461e-01,\n",
       "        9.52814817e-01, 4.57169771e-01, 1.16193295e-03, 9.79774200e-08,\n",
       "        2.85362411e-11, 4.64538564e-13, 1.33402924e-12, 7.41045350e-11,\n",
       "        1.30769546e-08, 4.19705742e-07, 2.64594310e-05, 4.00897861e-03],\n",
       "       [4.18889523e-03, 8.59390457e-06, 1.09842944e-08, 3.79017928e-10,\n",
       "        8.72071304e-11, 1.53822094e-10, 1.86144113e-08, 1.17087904e-04,\n",
       "        3.65168452e-01, 9.37641740e-01, 8.46796513e-01, 4.37880516e-01,\n",
       "        2.64369309e-01, 5.12701690e-01, 8.79855633e-01, 9.65641856e-01,\n",
       "        9.68071640e-01, 7.04931140e-01, 5.60814142e-03, 6.04153797e-07,\n",
       "        1.06944856e-10, 9.05093925e-13, 1.56521681e-12, 7.11363468e-11,\n",
       "        1.21305002e-08, 4.07889388e-07, 2.63120746e-05, 4.00799513e-03],\n",
       "       [4.18889523e-03, 8.57031682e-06, 1.11823688e-08, 4.15848384e-10,\n",
       "        1.13070955e-10, 2.75542950e-10, 4.08268619e-08, 2.09987164e-04,\n",
       "        3.82283568e-01, 9.19220209e-01, 8.30302000e-01, 5.33759534e-01,\n",
       "        4.66252536e-01, 7.77108610e-01, 9.47414041e-01, 9.71834123e-01,\n",
       "        9.67737079e-01, 8.04605126e-01, 1.96196437e-02, 4.65531002e-06,\n",
       "        6.83638479e-10, 3.11083494e-12, 2.52158646e-12, 7.64516159e-11,\n",
       "        1.12247216e-08, 3.88451724e-07, 2.59882236e-05, 4.00188565e-03],\n",
       "       [4.18889523e-03, 8.53080110e-06, 1.12748459e-08, 4.26752994e-10,\n",
       "        1.14986146e-10, 2.49911369e-10, 2.97536893e-08, 1.14785333e-04,\n",
       "        2.56553322e-01, 9.07729745e-01, 9.12164032e-01, 8.75288904e-01,\n",
       "        8.99707317e-01, 9.50671077e-01, 9.67809916e-01, 9.65227306e-01,\n",
       "        9.55377221e-01, 8.58403265e-01, 9.73409414e-02, 9.76497686e-05,\n",
       "        1.47105013e-08, 2.72873911e-11, 6.89855638e-12, 9.80378348e-11,\n",
       "        1.07432356e-08, 3.60987997e-07, 2.53135840e-05, 3.97965312e-03],\n",
       "       [4.18889523e-03, 8.49991739e-06, 1.12014096e-08, 4.09412976e-10,\n",
       "        9.27502727e-11, 1.20384522e-10, 6.87359902e-09, 1.62266551e-05,\n",
       "        5.31825423e-02, 8.29018950e-01, 9.40319419e-01, 9.50774014e-01,\n",
       "        9.54418778e-01, 9.53658938e-01, 9.35209334e-01, 9.08535957e-01,\n",
       "        9.00628090e-01, 8.80313635e-01, 4.24636930e-01, 3.88911366e-03,\n",
       "        1.00075067e-06, 5.89957361e-10, 3.52094048e-11, 1.66979625e-10,\n",
       "        1.11918208e-08, 3.27410305e-07, 2.39950059e-05, 3.92082334e-03],\n",
       "       [4.18889523e-03, 8.50634751e-06, 1.10988605e-08, 3.84195120e-10,\n",
       "        6.52823698e-11, 3.82198856e-11, 5.96955985e-10, 5.13824375e-07,\n",
       "        1.57445669e-03, 2.92357206e-01, 8.14516962e-01, 8.99832606e-01,\n",
       "        8.64998579e-01, 6.68158770e-01, 3.37847888e-01, 2.60911524e-01,\n",
       "        5.04251063e-01, 7.94852853e-01, 7.45304465e-01, 7.74602890e-02,\n",
       "        7.77662208e-05, 2.40902622e-08, 3.49228979e-10, 4.41439829e-10,\n",
       "        1.37984042e-08, 3.06262535e-07, 2.22211056e-05, 3.81273031e-03],\n",
       "       [4.18889523e-03, 8.54496830e-06, 1.10492859e-08, 3.65228014e-10,\n",
       "        4.79402143e-11, 1.26552987e-11, 3.74242859e-11, 5.63817304e-09,\n",
       "        8.12042981e-06, 2.57691741e-03, 5.76692820e-02, 1.03629529e-01,\n",
       "        3.28494310e-02, 2.95639038e-03, 4.66257334e-04, 9.99033451e-04,\n",
       "        2.88007855e-02, 5.18268645e-01, 8.34478021e-01, 4.38892424e-01,\n",
       "        3.89081240e-03, 1.72063915e-06, 7.55282947e-09, 2.28371388e-09,\n",
       "        2.46958152e-08, 3.30245825e-07, 2.08739802e-05, 3.67385149e-03],\n",
       "       [4.18889523e-03, 8.58365001e-06, 1.10325029e-08, 3.57233937e-10,\n",
       "        3.91602896e-11, 5.40460645e-12, 3.65532171e-12, 6.38024633e-11,\n",
       "        1.47614871e-08, 2.12031114e-06, 4.12574300e-05, 5.71862256e-05,\n",
       "        6.54860651e-06, 2.95687357e-07, 8.01427404e-08, 1.07639733e-06,\n",
       "        3.90589237e-04, 1.46027118e-01, 7.84875870e-01, 7.54793406e-01,\n",
       "        7.17737675e-02, 1.46597624e-04, 4.02027013e-07, 2.98136769e-08,\n",
       "        8.28468174e-08, 4.72996220e-07, 2.14272550e-05, 3.57666612e-03],\n",
       "       [4.18889523e-03, 8.60372893e-06, 1.10255609e-08, 3.51295992e-10,\n",
       "        3.50515381e-11, 3.25729894e-12, 7.49908545e-13, 2.10739087e-12,\n",
       "        5.42354807e-11, 1.40955803e-09, 1.01672821e-08, 8.13735568e-09,\n",
       "        9.65424407e-10, 8.57289517e-11, 7.90637208e-11, 4.53959403e-09,\n",
       "        7.81645667e-06, 1.21870637e-02, 5.79105377e-01, 8.40213597e-01,\n",
       "        4.51796621e-01, 1.05100572e-02, 5.06368488e-05, 1.00820819e-06,\n",
       "        5.68339146e-07, 1.06868708e-06, 2.66656316e-05, 3.67689133e-03],\n",
       "       [4.18889523e-03, 8.60793079e-06, 1.10082041e-08, 3.44949735e-10,\n",
       "        3.28514646e-11, 2.44930205e-12, 2.96369374e-13, 2.55073469e-13,\n",
       "        1.37776531e-12, 7.16051394e-12, 1.88212345e-11, 1.35282462e-11,\n",
       "        3.52222830e-12, 1.10345847e-12, 2.35192855e-12, 1.38371578e-10,\n",
       "        1.66070379e-07, 3.96251678e-04, 1.47530735e-01, 7.56769061e-01,\n",
       "        7.83788621e-01, 2.18630701e-01, 5.64697385e-03, 6.58958743e-05,\n",
       "        7.94965490e-06, 4.11620294e-06, 4.34359208e-05, 4.20796871e-03],\n",
       "       [4.53239679e-03, 1.03276652e-05, 1.56348943e-08, 5.28779909e-10,\n",
       "        5.68988225e-11, 4.54581685e-12, 4.34950199e-13, 2.09951007e-13,\n",
       "        4.46583065e-13, 9.76579386e-13, 1.51488576e-12, 1.29875928e-12,\n",
       "        7.07449670e-13, 4.68391927e-13, 1.11030304e-12, 2.54058927e-11,\n",
       "        8.15838241e-09, 1.45096656e-05, 1.38474405e-02, 5.74030817e-01,\n",
       "        8.69808018e-01, 7.43803322e-01, 2.30899632e-01, 6.80369139e-03,\n",
       "        2.87622213e-04, 3.70851340e-05, 1.23649836e-04, 6.04408979e-03],\n",
       "       [5.86959720e-03, 2.00701579e-05, 4.56740601e-08, 2.06764650e-09,\n",
       "        3.38683220e-10, 3.76161463e-11, 3.94973767e-12, 1.58915600e-12,\n",
       "        2.16128287e-12, 2.95056471e-12, 3.53503620e-12, 3.36485288e-12,\n",
       "        2.79362362e-12, 2.69751279e-12, 5.12240814e-12, 4.12326423e-11,\n",
       "        2.80009349e-09, 1.83586383e-06, 2.29567289e-03, 3.63504708e-01,\n",
       "        8.86207581e-01, 9.01581764e-01, 7.37788320e-01, 1.49591148e-01,\n",
       "        6.50271773e-03, 3.86387110e-04, 4.81873751e-04, 1.04711056e-02],\n",
       "       [1.09206140e-02, 8.55162507e-05, 4.39334286e-07, 3.26924976e-08,\n",
       "        8.01211453e-09, 1.46388968e-09, 2.31433733e-10, 9.84842624e-11,\n",
       "        1.08185259e-10, 1.19296045e-10, 1.26263722e-10, 1.24933938e-10,\n",
       "        1.21544580e-10, 1.30851746e-10, 1.96967498e-10, 6.63673894e-10,\n",
       "        1.13826246e-08, 1.92782022e-06, 1.30254030e-03, 2.42882192e-01,\n",
       "        8.46429229e-01, 9.00183141e-01, 8.33718598e-01, 4.07018244e-01,\n",
       "        4.98693883e-02, 2.54380703e-03, 1.93616748e-03, 2.05163062e-02],\n",
       "       [2.55424678e-02, 6.25669956e-04, 1.07808573e-05, 1.04620631e-06,\n",
       "        2.35089857e-07, 3.69524429e-08, 8.79893225e-09, 4.37181802e-09,\n",
       "        4.44156179e-09, 4.52179227e-09, 4.56149252e-09, 4.55771776e-09,\n",
       "        4.63156713e-09, 5.07110709e-09, 6.63557786e-09, 1.39026479e-08,\n",
       "        8.15365766e-08, 2.82937026e-06, 4.29600477e-04, 4.68304455e-02,\n",
       "        4.32658464e-01, 5.22666752e-01, 4.02628511e-01, 1.24155968e-01,\n",
       "        2.69809663e-02, 4.89729643e-03, 5.03799319e-03, 4.00235653e-02],\n",
       "       [7.23172724e-02, 5.38229942e-03, 2.82317400e-04, 2.27684213e-05,\n",
       "        3.17737772e-06, 5.16500961e-07, 1.73513754e-07, 1.10779915e-07,\n",
       "        1.10779915e-07, 1.10779915e-07, 1.10785194e-07, 1.10938707e-07,\n",
       "        1.12392740e-07, 1.19575063e-07, 1.42545147e-07, 2.16827459e-07,\n",
       "        5.94861604e-07, 4.85884084e-06, 1.39445066e-04, 4.52709198e-03,\n",
       "        4.01390195e-02, 4.82730269e-02, 2.89820135e-02, 1.24735236e-02,\n",
       "        5.96964359e-03, 5.10224700e-03, 1.28742754e-02, 8.35570991e-02],\n",
       "       [1.81488633e-01, 3.70280147e-02, 4.48167324e-03, 5.11914492e-04,\n",
       "        7.06237843e-05, 1.53365181e-05, 7.93172239e-06, 6.17467549e-06,\n",
       "        6.17467549e-06, 6.17467549e-06, 6.17468731e-06, 6.17664864e-06,\n",
       "        6.20711853e-06, 6.39132850e-06, 7.01114459e-06, 8.62244906e-06,\n",
       "        1.37663928e-05, 3.54777112e-05, 1.78277493e-04, 1.03601813e-03,\n",
       "        3.40104103e-03, 4.48510051e-03, 3.85478139e-03, 3.53965163e-03,\n",
       "        4.96718287e-03, 1.29062831e-02, 4.27910388e-02, 1.77495480e-01],\n",
       "       [3.32079887e-01, 1.86101228e-01, 8.03100467e-02, 2.82690525e-02,\n",
       "        9.47052240e-03, 4.52870131e-03, 3.21775675e-03, 2.95576453e-03,\n",
       "        2.95576453e-03, 2.95576453e-03, 2.95576453e-03, 2.95573473e-03,\n",
       "        2.95820832e-03, 2.97924876e-03, 3.05750966e-03, 3.26254964e-03,\n",
       "        3.73604894e-03, 4.93887067e-03, 7.86009431e-03, 1.39528215e-02,\n",
       "        2.13758349e-02, 2.40388215e-02, 2.51212716e-02, 3.22475433e-02,\n",
       "        4.84798849e-02, 9.52302814e-02, 1.81977540e-01, 3.27560097e-01]],\n",
       "      dtype=float32)"
      ]
     },
     "execution_count": 16,
     "metadata": {},
     "output_type": "execute_result"
    }
   ],
   "source": [
    "reconstruction"
   ]
  }
 ],
 "metadata": {
  "kernelspec": {
   "display_name": "Python 3",
   "language": "python",
   "name": "python3"
  },
  "language_info": {
   "codemirror_mode": {
    "name": "ipython",
    "version": 3
   },
   "file_extension": ".py",
   "mimetype": "text/x-python",
   "name": "python",
   "nbconvert_exporter": "python",
   "pygments_lexer": "ipython3",
   "version": "3.7.6"
  }
 },
 "nbformat": 4,
 "nbformat_minor": 4
}
